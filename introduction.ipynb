{
 "cells": [
  {
   "cell_type": "markdown",
   "metadata": {},
   "source": [
    "## BUSINESS PROBLEM/OBJECTIVE\n",
    "\n",
    "The primary objective of this project is to identify the optimal neighborhood in Manhattan area to start a small Grocery store business. The insights will be useful for people who would like to start their own business or a franchise. The detailed analysis of neighborhood would enable the stakeholders with all the necessary informations to make informed decisions. \n",
    "\n",
    "The following are the considerations and the reasons for choosing the preferred location and type of small business for this study:\n",
    "- **Manhattan**: The primary location choice of the stakeholder to set up his new business is **Manhattan**. It's probably the most famous and vibrant Borough of New York city. Labor availability (skills at all levels) and closer to consumer population are few of the reasons which makes it an ideal location. Aside from being known as financial capital of the world, it also offers multicultural cuisines, excellent subway system, and other amenities. Because of these factors, there will be no shortage of activities which makes an ideal spot to set up/expand a small business. There is a good chance of gaining customer traction, generate revenue and increase profitability.\n",
    "\n",
    "- **Groceries** - The stakeholder has prior experience in the grocery store business and has been very successful in running his business in other major cities.  The stakeholder is looking for an optimal location/neighborhood in Manhattan area to set up his grocery business.The new location would help to increase brand awareness and build customer loyalty. The stakeholder already has a business relationships with few of the big restaurant franchise in other locations which provides him an edge over others in the Manhattan area. The primary intention is to be a preferred vendor to other small franchise and restaurants whom he doesn't have relationship with. We are going to select the neighborhood based on the number of restaurants and other eatables to set up this grocery store. It will be easy to ship the raw materials on time if we set up the new business in the optimal location. \n",
    "\n",
    "**Approach**: Segmenting neighborhoods using cluster analysis based on location data will be a powerful insights to solve business problem for unlabeled data. For this study, we are going to explore the following methodologies.\n",
    "- *KMeans*:\n",
    "- *DBSCAN*:\n",
    "\n",
    "Based on the results and accuracy, we will finalize the appropriate algorithm and segment the neighborhoods\n"
   ]
  },
  {
   "cell_type": "code",
   "execution_count": null,
   "metadata": {},
   "outputs": [],
   "source": []
  }
 ],
 "metadata": {
  "kernelspec": {
   "display_name": "Python 3",
   "language": "python",
   "name": "python3"
  },
  "language_info": {
   "codemirror_mode": {
    "name": "ipython",
    "version": 3
   },
   "file_extension": ".py",
   "mimetype": "text/x-python",
   "name": "python",
   "nbconvert_exporter": "python",
   "pygments_lexer": "ipython3",
   "version": "3.6.6"
  }
 },
 "nbformat": 4,
 "nbformat_minor": 2
}
