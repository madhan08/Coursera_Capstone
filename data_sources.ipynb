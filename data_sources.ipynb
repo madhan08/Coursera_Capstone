{
 "cells": [
  {
   "cell_type": "markdown",
   "metadata": {},
   "source": [
    "## Data Sources\n",
    "\n",
    "Gathering necessary and relevant data for this study is probably the most important for answering business question. For this study, we are going to gather data from 2 different sources which are as follows.\n",
    "\n",
    "- **External Data**: We are going to leverage external data which already has 5 Boroughs (and one of them is Manhattan) and 306 neighborhoods.  It also has latitude and longitude co-ordinates for each neighborhood. The link to the data set is : https://geo.nyu.edu/catalog/nyu_2451_34572. This data will be later merged with Foursquare location data\n",
    "\n",
    "- **Foursquare Data**: We are also going to leverage Foursquare API (using the unique credentials) to retrieve various neighborhoods information in and around Manhattan area. We will gather data such as venue, venue category, venue summary, distance etc....Foursquare is very powerful source of medium to answer our business question. There are various other data sources (such as trending venues, tips etc>>) within Foursquare which was not part of this study."
   ]
  },
  {
   "cell_type": "code",
   "execution_count": null,
   "metadata": {},
   "outputs": [],
   "source": []
  }
 ],
 "metadata": {
  "kernelspec": {
   "display_name": "Python 3",
   "language": "python",
   "name": "python3"
  },
  "language_info": {
   "codemirror_mode": {
    "name": "ipython",
    "version": 3
   },
   "file_extension": ".py",
   "mimetype": "text/x-python",
   "name": "python",
   "nbconvert_exporter": "python",
   "pygments_lexer": "ipython3",
   "version": "3.6.6"
  }
 },
 "nbformat": 4,
 "nbformat_minor": 2
}
